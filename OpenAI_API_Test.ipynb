{
 "cells": [
  {
   "cell_type": "code",
   "execution_count": 3,
   "id": "ada03ea2",
   "metadata": {},
   "outputs": [
    {
     "name": "stdout",
     "output_type": "stream",
     "text": [
      "Collecting git+https://github.com/openai/whisper.git\n",
      "  Cloning https://github.com/openai/whisper.git to /private/var/folders/6p/z28pxg2n62b7gpb5rhnck_2h0000gn/T/pip-req-build-y5dzpvri\n",
      "  Running command git clone --filter=blob:none --quiet https://github.com/openai/whisper.git /private/var/folders/6p/z28pxg2n62b7gpb5rhnck_2h0000gn/T/pip-req-build-y5dzpvri\n",
      "  Resolved https://github.com/openai/whisper.git to commit e58f28804528831904c3b6f2c0e473f346223433\n",
      "  Installing build dependencies ... \u001b[?25ldone\n",
      "\u001b[?25h  Getting requirements to build wheel ... \u001b[?25ldone\n",
      "\u001b[?25h  Preparing metadata (pyproject.toml) ... \u001b[?25ldone\n",
      "\u001b[?25hRequirement already satisfied: numba in ./opt/anaconda3/lib/python3.9/site-packages (from openai-whisper==20231117) (0.57.0)\n",
      "Requirement already satisfied: numpy in ./opt/anaconda3/lib/python3.9/site-packages (from openai-whisper==20231117) (1.22.4)\n",
      "Collecting torch (from openai-whisper==20231117)\n",
      "  Obtaining dependency information for torch from https://files.pythonhosted.org/packages/a2/20/7f297fca8fa55f4401d23f941714834c514b0d43b7f0af9b6615f86e3b97/torch-2.1.1-cp39-none-macosx_10_9_x86_64.whl.metadata\n",
      "  Downloading torch-2.1.1-cp39-none-macosx_10_9_x86_64.whl.metadata (25 kB)\n",
      "Requirement already satisfied: tqdm in ./opt/anaconda3/lib/python3.9/site-packages (from openai-whisper==20231117) (4.65.0)\n",
      "Requirement already satisfied: more-itertools in ./opt/anaconda3/lib/python3.9/site-packages (from openai-whisper==20231117) (8.12.0)\n",
      "Collecting tiktoken (from openai-whisper==20231117)\n",
      "  Obtaining dependency information for tiktoken from https://files.pythonhosted.org/packages/cb/d5/215ead6df008e0642bb5c02cd81bf0c9f4243a470c198ba7c033b9bf5635/tiktoken-0.5.1-cp39-cp39-macosx_10_9_x86_64.whl.metadata\n",
      "  Downloading tiktoken-0.5.1-cp39-cp39-macosx_10_9_x86_64.whl.metadata (6.6 kB)\n",
      "Requirement already satisfied: llvmlite<0.41,>=0.40.0dev0 in ./opt/anaconda3/lib/python3.9/site-packages (from numba->openai-whisper==20231117) (0.40.0)\n",
      "Requirement already satisfied: regex>=2022.1.18 in ./opt/anaconda3/lib/python3.9/site-packages (from tiktoken->openai-whisper==20231117) (2022.7.9)\n",
      "Requirement already satisfied: requests>=2.26.0 in ./opt/anaconda3/lib/python3.9/site-packages (from tiktoken->openai-whisper==20231117) (2.29.0)\n",
      "Requirement already satisfied: filelock in ./opt/anaconda3/lib/python3.9/site-packages (from torch->openai-whisper==20231117) (3.9.0)\n",
      "Requirement already satisfied: typing-extensions in ./opt/anaconda3/lib/python3.9/site-packages (from torch->openai-whisper==20231117) (4.6.3)\n",
      "Requirement already satisfied: sympy in ./opt/anaconda3/lib/python3.9/site-packages (from torch->openai-whisper==20231117) (1.11.1)\n",
      "Requirement already satisfied: networkx in ./opt/anaconda3/lib/python3.9/site-packages (from torch->openai-whisper==20231117) (2.8.4)\n",
      "Requirement already satisfied: jinja2 in ./opt/anaconda3/lib/python3.9/site-packages (from torch->openai-whisper==20231117) (3.1.2)\n",
      "Requirement already satisfied: fsspec in ./opt/anaconda3/lib/python3.9/site-packages (from torch->openai-whisper==20231117) (2023.4.0)\n",
      "Requirement already satisfied: charset-normalizer<4,>=2 in ./opt/anaconda3/lib/python3.9/site-packages (from requests>=2.26.0->tiktoken->openai-whisper==20231117) (2.0.4)\n",
      "Requirement already satisfied: idna<4,>=2.5 in ./opt/anaconda3/lib/python3.9/site-packages (from requests>=2.26.0->tiktoken->openai-whisper==20231117) (3.4)\n",
      "Requirement already satisfied: urllib3<1.27,>=1.21.1 in ./opt/anaconda3/lib/python3.9/site-packages (from requests>=2.26.0->tiktoken->openai-whisper==20231117) (1.26.16)\n",
      "Requirement already satisfied: certifi>=2017.4.17 in ./opt/anaconda3/lib/python3.9/site-packages (from requests>=2.26.0->tiktoken->openai-whisper==20231117) (2023.5.7)\n",
      "Requirement already satisfied: MarkupSafe>=2.0 in ./opt/anaconda3/lib/python3.9/site-packages (from jinja2->torch->openai-whisper==20231117) (2.1.1)\n",
      "Requirement already satisfied: mpmath>=0.19 in ./opt/anaconda3/lib/python3.9/site-packages (from sympy->torch->openai-whisper==20231117) (1.2.1)\n",
      "Downloading tiktoken-0.5.1-cp39-cp39-macosx_10_9_x86_64.whl (953 kB)\n",
      "\u001b[2K   \u001b[90m━━━━━━━━━━━━━━━━━━━━━━━━━━━━━━━━━━━━━━━━\u001b[0m \u001b[32m953.9/953.9 kB\u001b[0m \u001b[31m2.3 MB/s\u001b[0m eta \u001b[36m0:00:00\u001b[0ma \u001b[36m0:00:01\u001b[0m\n",
      "\u001b[?25hDownloading torch-2.1.1-cp39-none-macosx_10_9_x86_64.whl (147.0 MB)\n",
      "\u001b[2K   \u001b[90m━━━━━━━━━━━━━━━━━━━━━━━━━━━━━━━━━━━━━━━━\u001b[0m \u001b[32m147.0/147.0 MB\u001b[0m \u001b[31m2.7 MB/s\u001b[0m eta \u001b[36m0:00:00\u001b[0m00:01\u001b[0m00:02\u001b[0m\n",
      "\u001b[?25hBuilding wheels for collected packages: openai-whisper\n",
      "  Building wheel for openai-whisper (pyproject.toml) ... \u001b[?25ldone\n",
      "\u001b[?25h  Created wheel for openai-whisper: filename=openai_whisper-20231117-py3-none-any.whl size=801344 sha256=e3eb71e6782f990a3e0b4beab60936e38b0f2b4998586216b24cd35ddab58e20\n",
      "  Stored in directory: /private/var/folders/6p/z28pxg2n62b7gpb5rhnck_2h0000gn/T/pip-ephem-wheel-cache-az1z0wwz/wheels/fe/03/29/e7919208d11b4ab32972cb448bb84a9a675d92cd52c9a48341\n",
      "Successfully built openai-whisper\n",
      "Installing collected packages: torch, tiktoken, openai-whisper\n",
      "Successfully installed openai-whisper-20231117 tiktoken-0.5.1 torch-2.1.1\n",
      "\n",
      "\u001b[1m[\u001b[0m\u001b[34;49mnotice\u001b[0m\u001b[1;39;49m]\u001b[0m\u001b[39;49m A new release of pip is available: \u001b[0m\u001b[31;49m23.2.1\u001b[0m\u001b[39;49m -> \u001b[0m\u001b[32;49m23.3.1\u001b[0m\n",
      "\u001b[1m[\u001b[0m\u001b[34;49mnotice\u001b[0m\u001b[1;39;49m]\u001b[0m\u001b[39;49m To update, run: \u001b[0m\u001b[32;49m/Users/elyhahami/opt/anaconda3/bin/python -m pip install --upgrade pip\u001b[0m\n",
      "Note: you may need to restart the kernel to use updated packages.\n"
     ]
    }
   ],
   "source": [
    "pip install git+https://github.com/openai/whisper.git"
   ]
  },
  {
   "cell_type": "code",
   "execution_count": 6,
   "id": "ea01d816",
   "metadata": {},
   "outputs": [],
   "source": [
    "data_path = \"/Users/elyhahami/finetuning.jsonl\"\n",
    "\n",
    "try:\n",
    "    with open(data_path, 'r', encoding='utf-8') as file:\n",
    "        for i, line in enumerate(file):\n",
    "            try:\n",
    "                json.loads(line)\n",
    "            except json.JSONDecodeError as e:\n",
    "                print(f\"Error parsing JSON on line {i+1}: {e}\")\n",
    "                start = max(i - 2, 0)\n",
    "                file.seek(0)\n",
    "                for j, context_line in enumerate(file):\n",
    "                    if start <= j <= i + 2:\n",
    "                        print(f\"Line {j+1}: {context_line.strip()}\")\n",
    "                        if j == i:\n",
    "                            print(\"^^^^^ Error Here ^^^^^\")\n",
    "                break\n",
    "except IOError as e:\n",
    "    print(f\"Error opening file: {e}\")\n"
   ]
  },
  {
   "cell_type": "code",
   "execution_count": 7,
   "id": "d364d8be",
   "metadata": {},
   "outputs": [
    {
     "name": "stdout",
     "output_type": "stream",
     "text": [
      "Num examples: 10\n",
      "First example:\n",
      "{'role': 'system', 'content': 'This is a proof-based mathematics bot.'}\n",
      "{'role': 'user', 'content': 'Although we have been discussing finite-dimensional vector spaces, we have not yet defined the dimension of such an object. How should dimension be defined?'}\n",
      "{'role': 'assistant', 'content': 'A reasonable definition should force the dimension of F^n to equal n. Thus we are tempted to define the dimension as the length of a basis. However, a finite-dimensional vector space in general has many different bases, and our attempted definition makes sense only if all bases in a given vector space have the same length. Fortunately that turns out to be the case.'}\n"
     ]
    }
   ],
   "source": [
    "import json\n",
    "import tiktoken # for token counting\n",
    "import numpy as np\n",
    "from collections import defaultdict\n",
    "\n",
    "data_path = \"/Users/elyhahami/finetuning.jsonl\"\n",
    "\n",
    "# Load the dataset\n",
    "with open(data_path, 'r', encoding='utf-8') as f:\n",
    "    dataset = [json.loads(line) for line in f]\n",
    "\n",
    "# Initial dataset stats\n",
    "print(\"Num examples:\", len(dataset))\n",
    "print(\"First example:\")\n",
    "for message in dataset[0][\"messages\"]:\n",
    "    print(message)"
   ]
  }
 ],
 "metadata": {
  "kernelspec": {
   "display_name": "Python 3 (ipykernel)",
   "language": "python",
   "name": "python3"
  },
  "language_info": {
   "codemirror_mode": {
    "name": "ipython",
    "version": 3
   },
   "file_extension": ".py",
   "mimetype": "text/x-python",
   "name": "python",
   "nbconvert_exporter": "python",
   "pygments_lexer": "ipython3",
   "version": "3.9.16"
  }
 },
 "nbformat": 4,
 "nbformat_minor": 5
}
